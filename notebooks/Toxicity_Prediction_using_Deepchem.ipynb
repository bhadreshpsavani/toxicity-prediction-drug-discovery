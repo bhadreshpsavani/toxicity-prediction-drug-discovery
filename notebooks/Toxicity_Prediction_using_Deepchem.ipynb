{
  "nbformat": 4,
  "nbformat_minor": 0,
  "metadata": {
    "colab": {
      "name": "Toxicity Prediction using Deepchem.ipynb",
      "provenance": [],
      "include_colab_link": true
    },
    "kernelspec": {
      "name": "python3",
      "display_name": "Python 3"
    }
  },
  "cells": [
    {
      "cell_type": "markdown",
      "metadata": {
        "id": "view-in-github",
        "colab_type": "text"
      },
      "source": [
        "<a href=\"https://colab.research.google.com/github/bhadreshpsavani/toxicity-prediction-drug-discovery/blob/main/notebooks/Toxicity_Prediction_using_Deepchem.ipynb\" target=\"_parent\"><img src=\"https://colab.research.google.com/assets/colab-badge.svg\" alt=\"Open In Colab\"/></a>"
      ]
    },
    {
      "cell_type": "markdown",
      "metadata": {
        "id": "oia4DCDpaXKA"
      },
      "source": [
        "# Toxicity Prediction using Deepchem - Demo\n",
        "\n",
        "The Deepchem and dataset setup below was taken from the official tutorial: [link ](https://github.com/deepchem/deepchem/blob/master/examples/tutorials/03_Modeling_Solubility.ipynb)\n",
        "\n",
        "The code is a modified version of this [file](https://github.com/deepchem/deepchem/blob/master/examples/tox21/tox21_tensorgraph_graph_conv.py)."
      ]
    },
    {
      "cell_type": "code",
      "metadata": {
        "id": "9va87VGba0Hk",
        "colab": {
          "base_uri": "https://localhost:8080/"
        },
        "outputId": "cee13acf-3aa2-4f1e-db89-cb8fecaa3fea"
      },
      "source": [
        "# Installing conda\n",
        "!curl -Lo conda_installer.py https://raw.githubusercontent.com/deepchem/deepchem/master/scripts/colab_install.py\n",
        "import conda_installer\n",
        "conda_installer.install()\n",
        "!/root/miniconda/bin/conda info -e"
      ],
      "execution_count": 1,
      "outputs": [
        {
          "output_type": "stream",
          "name": "stdout",
          "text": [
            "  % Total    % Received % Xferd  Average Speed   Time    Time     Time  Current\n",
            "                                 Dload  Upload   Total   Spent    Left  Speed\n",
            "100  3457  100  3457    0     0  19754      0 --:--:-- --:--:-- --:--:-- 19754\n"
          ]
        },
        {
          "output_type": "stream",
          "name": "stderr",
          "text": [
            "add /root/miniconda/lib/python3.7/site-packages to PYTHONPATH\n",
            "python version: 3.7.13\n",
            "fetching installer from https://repo.continuum.io/miniconda/Miniconda3-latest-Linux-x86_64.sh\n",
            "done\n",
            "installing miniconda to /root/miniconda\n",
            "done\n",
            "installing openmm, pdbfixer\n",
            "added conda-forge to channels\n",
            "done\n",
            "conda packages installation finished!\n"
          ]
        },
        {
          "output_type": "stream",
          "name": "stdout",
          "text": [
            "# conda environments:\n",
            "#\n",
            "base                  *  /root/miniconda\n",
            "\n"
          ]
        }
      ]
    },
    {
      "cell_type": "code",
      "metadata": {
        "id": "MyPiGA7qa7dZ",
        "colab": {
          "base_uri": "https://localhost:8080/",
          "height": 383
        },
        "outputId": "183fa0e1-b25b-42bf-f894-457e687de8dc"
      },
      "source": [
        "# Installing Deepchem\n",
        "!pip install --pre deepchem\n",
        "# Import deepchem just to check the version\n",
        "import deepchem\n",
        "deepchem.__version__"
      ],
      "execution_count": 2,
      "outputs": [
        {
          "output_type": "stream",
          "name": "stdout",
          "text": [
            "Looking in indexes: https://pypi.org/simple, https://us-python.pkg.dev/colab-wheels/public/simple/\n",
            "Collecting deepchem\n",
            "  Downloading deepchem-2.6.1-py3-none-any.whl (608 kB)\n",
            "\u001b[K     |████████████████████████████████| 608 kB 5.3 MB/s \n",
            "\u001b[?25hRequirement already satisfied: pandas in /usr/local/lib/python3.7/dist-packages (from deepchem) (1.3.5)\n",
            "Requirement already satisfied: scipy in /usr/local/lib/python3.7/dist-packages (from deepchem) (1.7.3)\n",
            "Requirement already satisfied: scikit-learn in /usr/local/lib/python3.7/dist-packages (from deepchem) (1.0.2)\n",
            "Collecting rdkit-pypi\n",
            "  Downloading rdkit_pypi-2022.3.4-cp37-cp37m-manylinux_2_17_x86_64.manylinux2014_x86_64.whl (22.7 MB)\n",
            "\u001b[K     |████████████████████████████████| 22.7 MB 84.6 MB/s \n",
            "\u001b[?25hRequirement already satisfied: numpy>=1.21 in /usr/local/lib/python3.7/dist-packages (from deepchem) (1.21.6)\n",
            "Requirement already satisfied: joblib in /usr/local/lib/python3.7/dist-packages (from deepchem) (1.1.0)\n",
            "Requirement already satisfied: pytz>=2017.3 in /usr/local/lib/python3.7/dist-packages (from pandas->deepchem) (2022.1)\n",
            "Requirement already satisfied: python-dateutil>=2.7.3 in /usr/local/lib/python3.7/dist-packages (from pandas->deepchem) (2.8.2)\n",
            "Requirement already satisfied: six>=1.5 in /usr/local/lib/python3.7/dist-packages (from python-dateutil>=2.7.3->pandas->deepchem) (1.15.0)\n",
            "Requirement already satisfied: Pillow in /usr/local/lib/python3.7/dist-packages (from rdkit-pypi->deepchem) (7.1.2)\n",
            "Requirement already satisfied: threadpoolctl>=2.0.0 in /usr/local/lib/python3.7/dist-packages (from scikit-learn->deepchem) (3.1.0)\n",
            "Installing collected packages: rdkit-pypi, deepchem\n",
            "Successfully installed deepchem-2.6.1 rdkit-pypi-2022.3.4\n"
          ]
        },
        {
          "output_type": "execute_result",
          "data": {
            "text/plain": [
              "'2.6.1'"
            ],
            "application/vnd.google.colaboratory.intrinsic+json": {
              "type": "string"
            }
          },
          "metadata": {},
          "execution_count": 2
        }
      ]
    },
    {
      "cell_type": "code",
      "metadata": {
        "id": "CuubN3RVa9Pr"
      },
      "source": [
        "# Importing required libraries and its utilities\n",
        "from __future__ import print_function\n",
        "from __future__ import division\n",
        "from __future__ import unicode_literals\n",
        "\n",
        "import numpy as np\n",
        "\n",
        "from deepchem.models import GraphConvModel\n",
        "\n",
        "np.random.seed(123)\n",
        "import tensorflow as tf\n",
        "\n",
        "tf.random.set_seed(123)\n",
        "import deepchem as dc\n",
        "from deepchem.molnet import load_clintox"
      ],
      "execution_count": 13,
      "outputs": []
    },
    {
      "cell_type": "code",
      "metadata": {
        "id": "lGg6EzZJbT-f",
        "colab": {
          "base_uri": "https://localhost:8080/"
        },
        "outputId": "c7b5994b-21aa-461d-ef2b-685c58d97e0a"
      },
      "source": [
        "# Load clintox dataset\n",
        "clintox_tasks, clintox_datasets, transformers = load_clintox(\n",
        "    featurizer='GraphConv', split='random')\n",
        "train_dataset, valid_dataset, test_dataset = clintox_datasets"
      ],
      "execution_count": 14,
      "outputs": [
        {
          "output_type": "stream",
          "name": "stderr",
          "text": [
            "'split' is deprecated.  Use 'splitter' instead.\n",
            "Failed to featurize datapoint 7, None. Appending empty array\n",
            "Exception message: Python argument types in\n",
            "    rdkit.Chem.rdmolfiles.CanonicalRankAtoms(NoneType)\n",
            "did not match C++ signature:\n",
            "    CanonicalRankAtoms(RDKit::ROMol mol, bool breakTies=True, bool includeChirality=True, bool includeIsotopes=True)\n",
            "Failed to featurize datapoint 302, None. Appending empty array\n",
            "Exception message: Python argument types in\n",
            "    rdkit.Chem.rdmolfiles.CanonicalRankAtoms(NoneType)\n",
            "did not match C++ signature:\n",
            "    CanonicalRankAtoms(RDKit::ROMol mol, bool breakTies=True, bool includeChirality=True, bool includeIsotopes=True)\n",
            "Failed to featurize datapoint 983, None. Appending empty array\n",
            "Exception message: Python argument types in\n",
            "    rdkit.Chem.rdmolfiles.CanonicalRankAtoms(NoneType)\n",
            "did not match C++ signature:\n",
            "    CanonicalRankAtoms(RDKit::ROMol mol, bool breakTies=True, bool includeChirality=True, bool includeIsotopes=True)\n",
            "Failed to featurize datapoint 984, None. Appending empty array\n",
            "Exception message: Python argument types in\n",
            "    rdkit.Chem.rdmolfiles.CanonicalRankAtoms(NoneType)\n",
            "did not match C++ signature:\n",
            "    CanonicalRankAtoms(RDKit::ROMol mol, bool breakTies=True, bool includeChirality=True, bool includeIsotopes=True)\n",
            "Failed to featurize datapoint 1219, None. Appending empty array\n",
            "Exception message: Python argument types in\n",
            "    rdkit.Chem.rdmolfiles.CanonicalRankAtoms(NoneType)\n",
            "did not match C++ signature:\n",
            "    CanonicalRankAtoms(RDKit::ROMol mol, bool breakTies=True, bool includeChirality=True, bool includeIsotopes=True)\n",
            "Failed to featurize datapoint 1220, None. Appending empty array\n",
            "Exception message: Python argument types in\n",
            "    rdkit.Chem.rdmolfiles.CanonicalRankAtoms(NoneType)\n",
            "did not match C++ signature:\n",
            "    CanonicalRankAtoms(RDKit::ROMol mol, bool breakTies=True, bool includeChirality=True, bool includeIsotopes=True)\n",
            "/usr/local/lib/python3.7/dist-packages/deepchem/feat/base_classes.py:305: VisibleDeprecationWarning: Creating an ndarray from ragged nested sequences (which is a list-or-tuple of lists-or-tuples-or ndarrays with different lengths or shapes) is deprecated. If you meant to do this, you must specify 'dtype=object' when creating the ndarray.\n",
            "  return np.asarray(features)\n"
          ]
        }
      ]
    },
    {
      "cell_type": "code",
      "metadata": {
        "id": "FuCaMFR8chWD"
      },
      "source": [
        "# Fit models\n",
        "metric = dc.metrics.Metric(\n",
        "    dc.metrics.roc_auc_score, np.mean, mode=\"classification\")"
      ],
      "execution_count": 15,
      "outputs": []
    },
    {
      "cell_type": "code",
      "metadata": {
        "id": "e6EF_v8Qc4nA",
        "colab": {
          "base_uri": "https://localhost:8080/"
        },
        "outputId": "e58bc0e0-185d-46f3-b927-b1b79e1fc621"
      },
      "source": [
        "# Do setup required for tf/keras models\n",
        "# Number of features on conv-mols\n",
        "n_feat = 75\n",
        "# Batch size of models\n",
        "batch_size = 50\n",
        "model = GraphConvModel(\n",
        "    len(clintox_tasks), batch_size=batch_size, mode='classification')\n",
        "\n",
        "# Fit trained model\n",
        "model.fit(train_dataset, nb_epoch=10)"
      ],
      "execution_count": 16,
      "outputs": [
        {
          "output_type": "stream",
          "name": "stderr",
          "text": [
            "/usr/local/lib/python3.7/dist-packages/tensorflow/python/framework/indexed_slices.py:446: UserWarning: Converting sparse IndexedSlices(IndexedSlices(indices=Tensor(\"gradient_tape/private__graph_conv_keras_model_2/graph_pool_5/Reshape_14:0\", shape=(286,), dtype=int32), values=Tensor(\"gradient_tape/private__graph_conv_keras_model_2/graph_pool_5/Reshape_13:0\", shape=(286, 64), dtype=float32), dense_shape=Tensor(\"gradient_tape/private__graph_conv_keras_model_2/graph_pool_5/Cast_4:0\", shape=(2,), dtype=int32))) to a dense Tensor of unknown shape. This may consume a large amount of memory.\n",
            "  \"shape. This may consume a large amount of memory.\" % value)\n",
            "/usr/local/lib/python3.7/dist-packages/tensorflow/python/framework/indexed_slices.py:446: UserWarning: Converting sparse IndexedSlices(IndexedSlices(indices=Tensor(\"gradient_tape/private__graph_conv_keras_model_2/graph_pool_5/Reshape_17:0\", shape=(1084,), dtype=int32), values=Tensor(\"gradient_tape/private__graph_conv_keras_model_2/graph_pool_5/Reshape_16:0\", shape=(1084, 64), dtype=float32), dense_shape=Tensor(\"gradient_tape/private__graph_conv_keras_model_2/graph_pool_5/Cast_5:0\", shape=(2,), dtype=int32))) to a dense Tensor of unknown shape. This may consume a large amount of memory.\n",
            "  \"shape. This may consume a large amount of memory.\" % value)\n",
            "/usr/local/lib/python3.7/dist-packages/tensorflow/python/framework/indexed_slices.py:446: UserWarning: Converting sparse IndexedSlices(IndexedSlices(indices=Tensor(\"gradient_tape/private__graph_conv_keras_model_2/graph_pool_5/Reshape_20:0\", shape=(1122,), dtype=int32), values=Tensor(\"gradient_tape/private__graph_conv_keras_model_2/graph_pool_5/Reshape_19:0\", shape=(1122, 64), dtype=float32), dense_shape=Tensor(\"gradient_tape/private__graph_conv_keras_model_2/graph_pool_5/Cast_6:0\", shape=(2,), dtype=int32))) to a dense Tensor of unknown shape. This may consume a large amount of memory.\n",
            "  \"shape. This may consume a large amount of memory.\" % value)\n",
            "/usr/local/lib/python3.7/dist-packages/tensorflow/python/framework/indexed_slices.py:446: UserWarning: Converting sparse IndexedSlices(IndexedSlices(indices=Tensor(\"gradient_tape/private__graph_conv_keras_model_2/graph_pool_5/Reshape_23:0\", shape=(176,), dtype=int32), values=Tensor(\"gradient_tape/private__graph_conv_keras_model_2/graph_pool_5/Reshape_22:0\", shape=(176, 64), dtype=float32), dense_shape=Tensor(\"gradient_tape/private__graph_conv_keras_model_2/graph_pool_5/Cast_7:0\", shape=(2,), dtype=int32))) to a dense Tensor of unknown shape. This may consume a large amount of memory.\n",
            "  \"shape. This may consume a large amount of memory.\" % value)\n",
            "/usr/local/lib/python3.7/dist-packages/tensorflow/python/framework/indexed_slices.py:446: UserWarning: Converting sparse IndexedSlices(IndexedSlices(indices=Tensor(\"gradient_tape/private__graph_conv_keras_model_2/graph_conv_5/Reshape_11:0\", shape=(286,), dtype=int32), values=Tensor(\"gradient_tape/private__graph_conv_keras_model_2/graph_conv_5/Reshape_10:0\", shape=(286, 64), dtype=float32), dense_shape=Tensor(\"gradient_tape/private__graph_conv_keras_model_2/graph_conv_5/Cast:0\", shape=(2,), dtype=int32))) to a dense Tensor of unknown shape. This may consume a large amount of memory.\n",
            "  \"shape. This may consume a large amount of memory.\" % value)\n",
            "/usr/local/lib/python3.7/dist-packages/tensorflow/python/framework/indexed_slices.py:446: UserWarning: Converting sparse IndexedSlices(IndexedSlices(indices=Tensor(\"gradient_tape/private__graph_conv_keras_model_2/graph_conv_5/Reshape_13:0\", shape=(1084,), dtype=int32), values=Tensor(\"gradient_tape/private__graph_conv_keras_model_2/graph_conv_5/Reshape_12:0\", shape=(1084, 64), dtype=float32), dense_shape=Tensor(\"gradient_tape/private__graph_conv_keras_model_2/graph_conv_5/Cast_1:0\", shape=(2,), dtype=int32))) to a dense Tensor of unknown shape. This may consume a large amount of memory.\n",
            "  \"shape. This may consume a large amount of memory.\" % value)\n",
            "/usr/local/lib/python3.7/dist-packages/tensorflow/python/framework/indexed_slices.py:446: UserWarning: Converting sparse IndexedSlices(IndexedSlices(indices=Tensor(\"gradient_tape/private__graph_conv_keras_model_2/graph_conv_5/Reshape_15:0\", shape=(1122,), dtype=int32), values=Tensor(\"gradient_tape/private__graph_conv_keras_model_2/graph_conv_5/Reshape_14:0\", shape=(1122, 64), dtype=float32), dense_shape=Tensor(\"gradient_tape/private__graph_conv_keras_model_2/graph_conv_5/Cast_2:0\", shape=(2,), dtype=int32))) to a dense Tensor of unknown shape. This may consume a large amount of memory.\n",
            "  \"shape. This may consume a large amount of memory.\" % value)\n",
            "/usr/local/lib/python3.7/dist-packages/tensorflow/python/framework/indexed_slices.py:446: UserWarning: Converting sparse IndexedSlices(IndexedSlices(indices=Tensor(\"gradient_tape/private__graph_conv_keras_model_2/graph_conv_5/Reshape_17:0\", shape=(176,), dtype=int32), values=Tensor(\"gradient_tape/private__graph_conv_keras_model_2/graph_conv_5/Reshape_16:0\", shape=(176, 64), dtype=float32), dense_shape=Tensor(\"gradient_tape/private__graph_conv_keras_model_2/graph_conv_5/Cast_3:0\", shape=(2,), dtype=int32))) to a dense Tensor of unknown shape. This may consume a large amount of memory.\n",
            "  \"shape. This may consume a large amount of memory.\" % value)\n",
            "/usr/local/lib/python3.7/dist-packages/tensorflow/python/framework/indexed_slices.py:446: UserWarning: Converting sparse IndexedSlices(IndexedSlices(indices=Tensor(\"gradient_tape/private__graph_conv_keras_model_2/graph_conv_5/Reshape_19:0\", shape=(0,), dtype=int32), values=Tensor(\"gradient_tape/private__graph_conv_keras_model_2/graph_conv_5/Reshape_18:0\", shape=(0, 64), dtype=float32), dense_shape=Tensor(\"gradient_tape/private__graph_conv_keras_model_2/graph_conv_5/Cast_4:0\", shape=(2,), dtype=int32))) to a dense Tensor of unknown shape. This may consume a large amount of memory.\n",
            "  \"shape. This may consume a large amount of memory.\" % value)\n",
            "/usr/local/lib/python3.7/dist-packages/tensorflow/python/framework/indexed_slices.py:446: UserWarning: Converting sparse IndexedSlices(IndexedSlices(indices=Tensor(\"gradient_tape/private__graph_conv_keras_model_2/graph_conv_5/Reshape_21:0\", shape=(0,), dtype=int32), values=Tensor(\"gradient_tape/private__graph_conv_keras_model_2/graph_conv_5/Reshape_20:0\", shape=(0, 64), dtype=float32), dense_shape=Tensor(\"gradient_tape/private__graph_conv_keras_model_2/graph_conv_5/Cast_5:0\", shape=(2,), dtype=int32))) to a dense Tensor of unknown shape. This may consume a large amount of memory.\n",
            "  \"shape. This may consume a large amount of memory.\" % value)\n",
            "/usr/local/lib/python3.7/dist-packages/tensorflow/python/framework/indexed_slices.py:446: UserWarning: Converting sparse IndexedSlices(IndexedSlices(indices=Tensor(\"gradient_tape/private__graph_conv_keras_model_2/graph_conv_5/Reshape_23:0\", shape=(0,), dtype=int32), values=Tensor(\"gradient_tape/private__graph_conv_keras_model_2/graph_conv_5/Reshape_22:0\", shape=(0, 64), dtype=float32), dense_shape=Tensor(\"gradient_tape/private__graph_conv_keras_model_2/graph_conv_5/Cast_6:0\", shape=(2,), dtype=int32))) to a dense Tensor of unknown shape. This may consume a large amount of memory.\n",
            "  \"shape. This may consume a large amount of memory.\" % value)\n",
            "/usr/local/lib/python3.7/dist-packages/tensorflow/python/framework/indexed_slices.py:446: UserWarning: Converting sparse IndexedSlices(IndexedSlices(indices=Tensor(\"gradient_tape/private__graph_conv_keras_model_2/graph_conv_5/Reshape_25:0\", shape=(0,), dtype=int32), values=Tensor(\"gradient_tape/private__graph_conv_keras_model_2/graph_conv_5/Reshape_24:0\", shape=(0, 64), dtype=float32), dense_shape=Tensor(\"gradient_tape/private__graph_conv_keras_model_2/graph_conv_5/Cast_7:0\", shape=(2,), dtype=int32))) to a dense Tensor of unknown shape. This may consume a large amount of memory.\n",
            "  \"shape. This may consume a large amount of memory.\" % value)\n",
            "/usr/local/lib/python3.7/dist-packages/tensorflow/python/framework/indexed_slices.py:446: UserWarning: Converting sparse IndexedSlices(IndexedSlices(indices=Tensor(\"gradient_tape/private__graph_conv_keras_model_2/graph_conv_5/Reshape_27:0\", shape=(0,), dtype=int32), values=Tensor(\"gradient_tape/private__graph_conv_keras_model_2/graph_conv_5/Reshape_26:0\", shape=(0, 64), dtype=float32), dense_shape=Tensor(\"gradient_tape/private__graph_conv_keras_model_2/graph_conv_5/Cast_8:0\", shape=(2,), dtype=int32))) to a dense Tensor of unknown shape. This may consume a large amount of memory.\n",
            "  \"shape. This may consume a large amount of memory.\" % value)\n",
            "/usr/local/lib/python3.7/dist-packages/tensorflow/python/framework/indexed_slices.py:446: UserWarning: Converting sparse IndexedSlices(IndexedSlices(indices=Tensor(\"gradient_tape/private__graph_conv_keras_model_2/graph_conv_5/Reshape_29:0\", shape=(0,), dtype=int32), values=Tensor(\"gradient_tape/private__graph_conv_keras_model_2/graph_conv_5/Reshape_28:0\", shape=(0, 64), dtype=float32), dense_shape=Tensor(\"gradient_tape/private__graph_conv_keras_model_2/graph_conv_5/Cast_9:0\", shape=(2,), dtype=int32))) to a dense Tensor of unknown shape. This may consume a large amount of memory.\n",
            "  \"shape. This may consume a large amount of memory.\" % value)\n",
            "/usr/local/lib/python3.7/dist-packages/tensorflow/python/framework/indexed_slices.py:446: UserWarning: Converting sparse IndexedSlices(IndexedSlices(indices=Tensor(\"gradient_tape/private__graph_conv_keras_model_2/graph_pool_4/Reshape_14:0\", shape=(286,), dtype=int32), values=Tensor(\"gradient_tape/private__graph_conv_keras_model_2/graph_pool_4/Reshape_13:0\", shape=(286, 64), dtype=float32), dense_shape=Tensor(\"gradient_tape/private__graph_conv_keras_model_2/graph_pool_4/Cast_4:0\", shape=(2,), dtype=int32))) to a dense Tensor of unknown shape. This may consume a large amount of memory.\n",
            "  \"shape. This may consume a large amount of memory.\" % value)\n",
            "/usr/local/lib/python3.7/dist-packages/tensorflow/python/framework/indexed_slices.py:446: UserWarning: Converting sparse IndexedSlices(IndexedSlices(indices=Tensor(\"gradient_tape/private__graph_conv_keras_model_2/graph_pool_4/Reshape_17:0\", shape=(1084,), dtype=int32), values=Tensor(\"gradient_tape/private__graph_conv_keras_model_2/graph_pool_4/Reshape_16:0\", shape=(1084, 64), dtype=float32), dense_shape=Tensor(\"gradient_tape/private__graph_conv_keras_model_2/graph_pool_4/Cast_5:0\", shape=(2,), dtype=int32))) to a dense Tensor of unknown shape. This may consume a large amount of memory.\n",
            "  \"shape. This may consume a large amount of memory.\" % value)\n",
            "/usr/local/lib/python3.7/dist-packages/tensorflow/python/framework/indexed_slices.py:446: UserWarning: Converting sparse IndexedSlices(IndexedSlices(indices=Tensor(\"gradient_tape/private__graph_conv_keras_model_2/graph_pool_4/Reshape_20:0\", shape=(1122,), dtype=int32), values=Tensor(\"gradient_tape/private__graph_conv_keras_model_2/graph_pool_4/Reshape_19:0\", shape=(1122, 64), dtype=float32), dense_shape=Tensor(\"gradient_tape/private__graph_conv_keras_model_2/graph_pool_4/Cast_6:0\", shape=(2,), dtype=int32))) to a dense Tensor of unknown shape. This may consume a large amount of memory.\n",
            "  \"shape. This may consume a large amount of memory.\" % value)\n",
            "/usr/local/lib/python3.7/dist-packages/tensorflow/python/framework/indexed_slices.py:446: UserWarning: Converting sparse IndexedSlices(IndexedSlices(indices=Tensor(\"gradient_tape/private__graph_conv_keras_model_2/graph_pool_4/Reshape_23:0\", shape=(176,), dtype=int32), values=Tensor(\"gradient_tape/private__graph_conv_keras_model_2/graph_pool_4/Reshape_22:0\", shape=(176, 64), dtype=float32), dense_shape=Tensor(\"gradient_tape/private__graph_conv_keras_model_2/graph_pool_4/Cast_7:0\", shape=(2,), dtype=int32))) to a dense Tensor of unknown shape. This may consume a large amount of memory.\n",
            "  \"shape. This may consume a large amount of memory.\" % value)\n",
            "/usr/local/lib/python3.7/dist-packages/tensorflow/python/framework/indexed_slices.py:446: UserWarning: Converting sparse IndexedSlices(IndexedSlices(indices=Tensor(\"gradient_tape/private__graph_conv_keras_model_2/graph_pool_5/Reshape_14:0\", shape=(288,), dtype=int32), values=Tensor(\"gradient_tape/private__graph_conv_keras_model_2/graph_pool_5/Reshape_13:0\", shape=(288, 64), dtype=float32), dense_shape=Tensor(\"gradient_tape/private__graph_conv_keras_model_2/graph_pool_5/Cast_4:0\", shape=(2,), dtype=int32))) to a dense Tensor of unknown shape. This may consume a large amount of memory.\n",
            "  \"shape. This may consume a large amount of memory.\" % value)\n",
            "/usr/local/lib/python3.7/dist-packages/tensorflow/python/framework/indexed_slices.py:446: UserWarning: Converting sparse IndexedSlices(IndexedSlices(indices=Tensor(\"gradient_tape/private__graph_conv_keras_model_2/graph_pool_5/Reshape_17:0\", shape=(1018,), dtype=int32), values=Tensor(\"gradient_tape/private__graph_conv_keras_model_2/graph_pool_5/Reshape_16:0\", shape=(1018, 64), dtype=float32), dense_shape=Tensor(\"gradient_tape/private__graph_conv_keras_model_2/graph_pool_5/Cast_5:0\", shape=(2,), dtype=int32))) to a dense Tensor of unknown shape. This may consume a large amount of memory.\n",
            "  \"shape. This may consume a large amount of memory.\" % value)\n",
            "/usr/local/lib/python3.7/dist-packages/tensorflow/python/framework/indexed_slices.py:446: UserWarning: Converting sparse IndexedSlices(IndexedSlices(indices=Tensor(\"gradient_tape/private__graph_conv_keras_model_2/graph_pool_5/Reshape_20:0\", shape=(1050,), dtype=int32), values=Tensor(\"gradient_tape/private__graph_conv_keras_model_2/graph_pool_5/Reshape_19:0\", shape=(1050, 64), dtype=float32), dense_shape=Tensor(\"gradient_tape/private__graph_conv_keras_model_2/graph_pool_5/Cast_6:0\", shape=(2,), dtype=int32))) to a dense Tensor of unknown shape. This may consume a large amount of memory.\n",
            "  \"shape. This may consume a large amount of memory.\" % value)\n",
            "/usr/local/lib/python3.7/dist-packages/tensorflow/python/framework/indexed_slices.py:446: UserWarning: Converting sparse IndexedSlices(IndexedSlices(indices=Tensor(\"gradient_tape/private__graph_conv_keras_model_2/graph_pool_5/Reshape_23:0\", shape=(180,), dtype=int32), values=Tensor(\"gradient_tape/private__graph_conv_keras_model_2/graph_pool_5/Reshape_22:0\", shape=(180, 64), dtype=float32), dense_shape=Tensor(\"gradient_tape/private__graph_conv_keras_model_2/graph_pool_5/Cast_7:0\", shape=(2,), dtype=int32))) to a dense Tensor of unknown shape. This may consume a large amount of memory.\n",
            "  \"shape. This may consume a large amount of memory.\" % value)\n",
            "/usr/local/lib/python3.7/dist-packages/tensorflow/python/framework/indexed_slices.py:446: UserWarning: Converting sparse IndexedSlices(IndexedSlices(indices=Tensor(\"gradient_tape/private__graph_conv_keras_model_2/graph_conv_5/Reshape_11:0\", shape=(288,), dtype=int32), values=Tensor(\"gradient_tape/private__graph_conv_keras_model_2/graph_conv_5/Reshape_10:0\", shape=(288, 64), dtype=float32), dense_shape=Tensor(\"gradient_tape/private__graph_conv_keras_model_2/graph_conv_5/Cast:0\", shape=(2,), dtype=int32))) to a dense Tensor of unknown shape. This may consume a large amount of memory.\n",
            "  \"shape. This may consume a large amount of memory.\" % value)\n",
            "/usr/local/lib/python3.7/dist-packages/tensorflow/python/framework/indexed_slices.py:446: UserWarning: Converting sparse IndexedSlices(IndexedSlices(indices=Tensor(\"gradient_tape/private__graph_conv_keras_model_2/graph_conv_5/Reshape_13:0\", shape=(1018,), dtype=int32), values=Tensor(\"gradient_tape/private__graph_conv_keras_model_2/graph_conv_5/Reshape_12:0\", shape=(1018, 64), dtype=float32), dense_shape=Tensor(\"gradient_tape/private__graph_conv_keras_model_2/graph_conv_5/Cast_1:0\", shape=(2,), dtype=int32))) to a dense Tensor of unknown shape. This may consume a large amount of memory.\n",
            "  \"shape. This may consume a large amount of memory.\" % value)\n",
            "/usr/local/lib/python3.7/dist-packages/tensorflow/python/framework/indexed_slices.py:446: UserWarning: Converting sparse IndexedSlices(IndexedSlices(indices=Tensor(\"gradient_tape/private__graph_conv_keras_model_2/graph_conv_5/Reshape_15:0\", shape=(1050,), dtype=int32), values=Tensor(\"gradient_tape/private__graph_conv_keras_model_2/graph_conv_5/Reshape_14:0\", shape=(1050, 64), dtype=float32), dense_shape=Tensor(\"gradient_tape/private__graph_conv_keras_model_2/graph_conv_5/Cast_2:0\", shape=(2,), dtype=int32))) to a dense Tensor of unknown shape. This may consume a large amount of memory.\n",
            "  \"shape. This may consume a large amount of memory.\" % value)\n",
            "/usr/local/lib/python3.7/dist-packages/tensorflow/python/framework/indexed_slices.py:446: UserWarning: Converting sparse IndexedSlices(IndexedSlices(indices=Tensor(\"gradient_tape/private__graph_conv_keras_model_2/graph_conv_5/Reshape_17:0\", shape=(180,), dtype=int32), values=Tensor(\"gradient_tape/private__graph_conv_keras_model_2/graph_conv_5/Reshape_16:0\", shape=(180, 64), dtype=float32), dense_shape=Tensor(\"gradient_tape/private__graph_conv_keras_model_2/graph_conv_5/Cast_3:0\", shape=(2,), dtype=int32))) to a dense Tensor of unknown shape. This may consume a large amount of memory.\n",
            "  \"shape. This may consume a large amount of memory.\" % value)\n",
            "/usr/local/lib/python3.7/dist-packages/tensorflow/python/framework/indexed_slices.py:446: UserWarning: Converting sparse IndexedSlices(IndexedSlices(indices=Tensor(\"gradient_tape/private__graph_conv_keras_model_2/graph_pool_4/Reshape_14:0\", shape=(288,), dtype=int32), values=Tensor(\"gradient_tape/private__graph_conv_keras_model_2/graph_pool_4/Reshape_13:0\", shape=(288, 64), dtype=float32), dense_shape=Tensor(\"gradient_tape/private__graph_conv_keras_model_2/graph_pool_4/Cast_4:0\", shape=(2,), dtype=int32))) to a dense Tensor of unknown shape. This may consume a large amount of memory.\n",
            "  \"shape. This may consume a large amount of memory.\" % value)\n",
            "/usr/local/lib/python3.7/dist-packages/tensorflow/python/framework/indexed_slices.py:446: UserWarning: Converting sparse IndexedSlices(IndexedSlices(indices=Tensor(\"gradient_tape/private__graph_conv_keras_model_2/graph_pool_4/Reshape_17:0\", shape=(1018,), dtype=int32), values=Tensor(\"gradient_tape/private__graph_conv_keras_model_2/graph_pool_4/Reshape_16:0\", shape=(1018, 64), dtype=float32), dense_shape=Tensor(\"gradient_tape/private__graph_conv_keras_model_2/graph_pool_4/Cast_5:0\", shape=(2,), dtype=int32))) to a dense Tensor of unknown shape. This may consume a large amount of memory.\n",
            "  \"shape. This may consume a large amount of memory.\" % value)\n",
            "/usr/local/lib/python3.7/dist-packages/tensorflow/python/framework/indexed_slices.py:446: UserWarning: Converting sparse IndexedSlices(IndexedSlices(indices=Tensor(\"gradient_tape/private__graph_conv_keras_model_2/graph_pool_4/Reshape_20:0\", shape=(1050,), dtype=int32), values=Tensor(\"gradient_tape/private__graph_conv_keras_model_2/graph_pool_4/Reshape_19:0\", shape=(1050, 64), dtype=float32), dense_shape=Tensor(\"gradient_tape/private__graph_conv_keras_model_2/graph_pool_4/Cast_6:0\", shape=(2,), dtype=int32))) to a dense Tensor of unknown shape. This may consume a large amount of memory.\n",
            "  \"shape. This may consume a large amount of memory.\" % value)\n",
            "/usr/local/lib/python3.7/dist-packages/tensorflow/python/framework/indexed_slices.py:446: UserWarning: Converting sparse IndexedSlices(IndexedSlices(indices=Tensor(\"gradient_tape/private__graph_conv_keras_model_2/graph_pool_4/Reshape_23:0\", shape=(180,), dtype=int32), values=Tensor(\"gradient_tape/private__graph_conv_keras_model_2/graph_pool_4/Reshape_22:0\", shape=(180, 64), dtype=float32), dense_shape=Tensor(\"gradient_tape/private__graph_conv_keras_model_2/graph_pool_4/Cast_7:0\", shape=(2,), dtype=int32))) to a dense Tensor of unknown shape. This may consume a large amount of memory.\n",
            "  \"shape. This may consume a large amount of memory.\" % value)\n",
            "/usr/local/lib/python3.7/dist-packages/tensorflow/python/framework/indexed_slices.py:446: UserWarning: Converting sparse IndexedSlices(IndexedSlices(indices=Tensor(\"gradient_tape/private__graph_conv_keras_model_2/graph_pool_5/Reshape_14:0\", shape=(None,), dtype=int32), values=Tensor(\"gradient_tape/private__graph_conv_keras_model_2/graph_pool_5/Reshape_13:0\", shape=(None, 64), dtype=float32), dense_shape=Tensor(\"gradient_tape/private__graph_conv_keras_model_2/graph_pool_5/Cast_4:0\", shape=(2,), dtype=int32))) to a dense Tensor of unknown shape. This may consume a large amount of memory.\n",
            "  \"shape. This may consume a large amount of memory.\" % value)\n",
            "/usr/local/lib/python3.7/dist-packages/tensorflow/python/framework/indexed_slices.py:446: UserWarning: Converting sparse IndexedSlices(IndexedSlices(indices=Tensor(\"gradient_tape/private__graph_conv_keras_model_2/graph_pool_5/Reshape_17:0\", shape=(None,), dtype=int32), values=Tensor(\"gradient_tape/private__graph_conv_keras_model_2/graph_pool_5/Reshape_16:0\", shape=(None, 64), dtype=float32), dense_shape=Tensor(\"gradient_tape/private__graph_conv_keras_model_2/graph_pool_5/Cast_5:0\", shape=(2,), dtype=int32))) to a dense Tensor of unknown shape. This may consume a large amount of memory.\n",
            "  \"shape. This may consume a large amount of memory.\" % value)\n",
            "/usr/local/lib/python3.7/dist-packages/tensorflow/python/framework/indexed_slices.py:446: UserWarning: Converting sparse IndexedSlices(IndexedSlices(indices=Tensor(\"gradient_tape/private__graph_conv_keras_model_2/graph_pool_5/Reshape_20:0\", shape=(None,), dtype=int32), values=Tensor(\"gradient_tape/private__graph_conv_keras_model_2/graph_pool_5/Reshape_19:0\", shape=(None, 64), dtype=float32), dense_shape=Tensor(\"gradient_tape/private__graph_conv_keras_model_2/graph_pool_5/Cast_6:0\", shape=(2,), dtype=int32))) to a dense Tensor of unknown shape. This may consume a large amount of memory.\n",
            "  \"shape. This may consume a large amount of memory.\" % value)\n",
            "/usr/local/lib/python3.7/dist-packages/tensorflow/python/framework/indexed_slices.py:446: UserWarning: Converting sparse IndexedSlices(IndexedSlices(indices=Tensor(\"gradient_tape/private__graph_conv_keras_model_2/graph_pool_5/Reshape_23:0\", shape=(None,), dtype=int32), values=Tensor(\"gradient_tape/private__graph_conv_keras_model_2/graph_pool_5/Reshape_22:0\", shape=(None, 64), dtype=float32), dense_shape=Tensor(\"gradient_tape/private__graph_conv_keras_model_2/graph_pool_5/Cast_7:0\", shape=(2,), dtype=int32))) to a dense Tensor of unknown shape. This may consume a large amount of memory.\n",
            "  \"shape. This may consume a large amount of memory.\" % value)\n",
            "/usr/local/lib/python3.7/dist-packages/tensorflow/python/framework/indexed_slices.py:446: UserWarning: Converting sparse IndexedSlices(IndexedSlices(indices=Tensor(\"gradient_tape/private__graph_conv_keras_model_2/graph_conv_5/Reshape_11:0\", shape=(None,), dtype=int32), values=Tensor(\"gradient_tape/private__graph_conv_keras_model_2/graph_conv_5/Reshape_10:0\", shape=(None, 64), dtype=float32), dense_shape=Tensor(\"gradient_tape/private__graph_conv_keras_model_2/graph_conv_5/Cast:0\", shape=(2,), dtype=int32))) to a dense Tensor of unknown shape. This may consume a large amount of memory.\n",
            "  \"shape. This may consume a large amount of memory.\" % value)\n",
            "/usr/local/lib/python3.7/dist-packages/tensorflow/python/framework/indexed_slices.py:446: UserWarning: Converting sparse IndexedSlices(IndexedSlices(indices=Tensor(\"gradient_tape/private__graph_conv_keras_model_2/graph_conv_5/Reshape_13:0\", shape=(None,), dtype=int32), values=Tensor(\"gradient_tape/private__graph_conv_keras_model_2/graph_conv_5/Reshape_12:0\", shape=(None, 64), dtype=float32), dense_shape=Tensor(\"gradient_tape/private__graph_conv_keras_model_2/graph_conv_5/Cast_1:0\", shape=(2,), dtype=int32))) to a dense Tensor of unknown shape. This may consume a large amount of memory.\n",
            "  \"shape. This may consume a large amount of memory.\" % value)\n",
            "/usr/local/lib/python3.7/dist-packages/tensorflow/python/framework/indexed_slices.py:446: UserWarning: Converting sparse IndexedSlices(IndexedSlices(indices=Tensor(\"gradient_tape/private__graph_conv_keras_model_2/graph_conv_5/Reshape_15:0\", shape=(None,), dtype=int32), values=Tensor(\"gradient_tape/private__graph_conv_keras_model_2/graph_conv_5/Reshape_14:0\", shape=(None, 64), dtype=float32), dense_shape=Tensor(\"gradient_tape/private__graph_conv_keras_model_2/graph_conv_5/Cast_2:0\", shape=(2,), dtype=int32))) to a dense Tensor of unknown shape. This may consume a large amount of memory.\n",
            "  \"shape. This may consume a large amount of memory.\" % value)\n",
            "/usr/local/lib/python3.7/dist-packages/tensorflow/python/framework/indexed_slices.py:446: UserWarning: Converting sparse IndexedSlices(IndexedSlices(indices=Tensor(\"gradient_tape/private__graph_conv_keras_model_2/graph_conv_5/Reshape_17:0\", shape=(None,), dtype=int32), values=Tensor(\"gradient_tape/private__graph_conv_keras_model_2/graph_conv_5/Reshape_16:0\", shape=(None, 64), dtype=float32), dense_shape=Tensor(\"gradient_tape/private__graph_conv_keras_model_2/graph_conv_5/Cast_3:0\", shape=(2,), dtype=int32))) to a dense Tensor of unknown shape. This may consume a large amount of memory.\n",
            "  \"shape. This may consume a large amount of memory.\" % value)\n",
            "/usr/local/lib/python3.7/dist-packages/tensorflow/python/framework/indexed_slices.py:446: UserWarning: Converting sparse IndexedSlices(IndexedSlices(indices=Tensor(\"gradient_tape/private__graph_conv_keras_model_2/graph_pool_4/Reshape_14:0\", shape=(None,), dtype=int32), values=Tensor(\"gradient_tape/private__graph_conv_keras_model_2/graph_pool_4/Reshape_13:0\", shape=(None, 64), dtype=float32), dense_shape=Tensor(\"gradient_tape/private__graph_conv_keras_model_2/graph_pool_4/Cast_4:0\", shape=(2,), dtype=int32))) to a dense Tensor of unknown shape. This may consume a large amount of memory.\n",
            "  \"shape. This may consume a large amount of memory.\" % value)\n",
            "/usr/local/lib/python3.7/dist-packages/tensorflow/python/framework/indexed_slices.py:446: UserWarning: Converting sparse IndexedSlices(IndexedSlices(indices=Tensor(\"gradient_tape/private__graph_conv_keras_model_2/graph_pool_4/Reshape_17:0\", shape=(None,), dtype=int32), values=Tensor(\"gradient_tape/private__graph_conv_keras_model_2/graph_pool_4/Reshape_16:0\", shape=(None, 64), dtype=float32), dense_shape=Tensor(\"gradient_tape/private__graph_conv_keras_model_2/graph_pool_4/Cast_5:0\", shape=(2,), dtype=int32))) to a dense Tensor of unknown shape. This may consume a large amount of memory.\n",
            "  \"shape. This may consume a large amount of memory.\" % value)\n",
            "/usr/local/lib/python3.7/dist-packages/tensorflow/python/framework/indexed_slices.py:446: UserWarning: Converting sparse IndexedSlices(IndexedSlices(indices=Tensor(\"gradient_tape/private__graph_conv_keras_model_2/graph_pool_4/Reshape_20:0\", shape=(None,), dtype=int32), values=Tensor(\"gradient_tape/private__graph_conv_keras_model_2/graph_pool_4/Reshape_19:0\", shape=(None, 64), dtype=float32), dense_shape=Tensor(\"gradient_tape/private__graph_conv_keras_model_2/graph_pool_4/Cast_6:0\", shape=(2,), dtype=int32))) to a dense Tensor of unknown shape. This may consume a large amount of memory.\n",
            "  \"shape. This may consume a large amount of memory.\" % value)\n",
            "/usr/local/lib/python3.7/dist-packages/tensorflow/python/framework/indexed_slices.py:446: UserWarning: Converting sparse IndexedSlices(IndexedSlices(indices=Tensor(\"gradient_tape/private__graph_conv_keras_model_2/graph_pool_4/Reshape_23:0\", shape=(None,), dtype=int32), values=Tensor(\"gradient_tape/private__graph_conv_keras_model_2/graph_pool_4/Reshape_22:0\", shape=(None, 64), dtype=float32), dense_shape=Tensor(\"gradient_tape/private__graph_conv_keras_model_2/graph_pool_4/Cast_7:0\", shape=(2,), dtype=int32))) to a dense Tensor of unknown shape. This may consume a large amount of memory.\n",
            "  \"shape. This may consume a large amount of memory.\" % value)\n",
            "/usr/local/lib/python3.7/dist-packages/tensorflow/python/framework/indexed_slices.py:446: UserWarning: Converting sparse IndexedSlices(IndexedSlices(indices=Tensor(\"gradient_tape/private__graph_conv_keras_model_2/graph_pool_5/Reshape_26:0\", shape=(None,), dtype=int32), values=Tensor(\"gradient_tape/private__graph_conv_keras_model_2/graph_pool_5/Reshape_25:0\", shape=(None, 64), dtype=float32), dense_shape=Tensor(\"gradient_tape/private__graph_conv_keras_model_2/graph_pool_5/Cast_8:0\", shape=(2,), dtype=int32))) to a dense Tensor of unknown shape. This may consume a large amount of memory.\n",
            "  \"shape. This may consume a large amount of memory.\" % value)\n",
            "/usr/local/lib/python3.7/dist-packages/tensorflow/python/framework/indexed_slices.py:446: UserWarning: Converting sparse IndexedSlices(IndexedSlices(indices=Tensor(\"gradient_tape/private__graph_conv_keras_model_2/graph_pool_5/Reshape_29:0\", shape=(None,), dtype=int32), values=Tensor(\"gradient_tape/private__graph_conv_keras_model_2/graph_pool_5/Reshape_28:0\", shape=(None, 64), dtype=float32), dense_shape=Tensor(\"gradient_tape/private__graph_conv_keras_model_2/graph_pool_5/Cast_9:0\", shape=(2,), dtype=int32))) to a dense Tensor of unknown shape. This may consume a large amount of memory.\n",
            "  \"shape. This may consume a large amount of memory.\" % value)\n",
            "/usr/local/lib/python3.7/dist-packages/tensorflow/python/framework/indexed_slices.py:446: UserWarning: Converting sparse IndexedSlices(IndexedSlices(indices=Tensor(\"gradient_tape/private__graph_conv_keras_model_2/graph_conv_5/Reshape_21:0\", shape=(None,), dtype=int32), values=Tensor(\"gradient_tape/private__graph_conv_keras_model_2/graph_conv_5/Reshape_20:0\", shape=(None, 64), dtype=float32), dense_shape=Tensor(\"gradient_tape/private__graph_conv_keras_model_2/graph_conv_5/Cast_5:0\", shape=(2,), dtype=int32))) to a dense Tensor of unknown shape. This may consume a large amount of memory.\n",
            "  \"shape. This may consume a large amount of memory.\" % value)\n",
            "/usr/local/lib/python3.7/dist-packages/tensorflow/python/framework/indexed_slices.py:446: UserWarning: Converting sparse IndexedSlices(IndexedSlices(indices=Tensor(\"gradient_tape/private__graph_conv_keras_model_2/graph_pool_4/Reshape_26:0\", shape=(None,), dtype=int32), values=Tensor(\"gradient_tape/private__graph_conv_keras_model_2/graph_pool_4/Reshape_25:0\", shape=(None, 64), dtype=float32), dense_shape=Tensor(\"gradient_tape/private__graph_conv_keras_model_2/graph_pool_4/Cast_8:0\", shape=(2,), dtype=int32))) to a dense Tensor of unknown shape. This may consume a large amount of memory.\n",
            "  \"shape. This may consume a large amount of memory.\" % value)\n",
            "/usr/local/lib/python3.7/dist-packages/tensorflow/python/framework/indexed_slices.py:446: UserWarning: Converting sparse IndexedSlices(IndexedSlices(indices=Tensor(\"gradient_tape/private__graph_conv_keras_model_2/graph_pool_4/Reshape_29:0\", shape=(None,), dtype=int32), values=Tensor(\"gradient_tape/private__graph_conv_keras_model_2/graph_pool_4/Reshape_28:0\", shape=(None, 64), dtype=float32), dense_shape=Tensor(\"gradient_tape/private__graph_conv_keras_model_2/graph_pool_4/Cast_9:0\", shape=(2,), dtype=int32))) to a dense Tensor of unknown shape. This may consume a large amount of memory.\n",
            "  \"shape. This may consume a large amount of memory.\" % value)\n"
          ]
        },
        {
          "output_type": "execute_result",
          "data": {
            "text/plain": [
              "0.3312569856643677"
            ]
          },
          "metadata": {},
          "execution_count": 16
        }
      ]
    },
    {
      "cell_type": "code",
      "metadata": {
        "id": "tdWnr7sHdVs8",
        "colab": {
          "base_uri": "https://localhost:8080/"
        },
        "outputId": "e5cabe03-e2ed-4814-920e-ea49f21ed2ed"
      },
      "source": [
        "print(\"Evaluating model\")\n",
        "train_scores = model.evaluate(train_dataset, [metric], transformers)\n",
        "valid_scores = model.evaluate(valid_dataset, [metric], transformers)"
      ],
      "execution_count": 17,
      "outputs": [
        {
          "output_type": "stream",
          "name": "stdout",
          "text": [
            "Evaluating model\n",
            "WARNING:tensorflow:5 out of the last 178 calls to <function KerasModel._compute_model at 0x7f3c35c6bc20> triggered tf.function retracing. Tracing is expensive and the excessive number of tracings could be due to (1) creating @tf.function repeatedly in a loop, (2) passing tensors with different shapes, (3) passing Python objects instead of tensors. For (1), please define your @tf.function outside of the loop. For (2), @tf.function has experimental_relax_shapes=True option that relaxes argument shapes that can avoid unnecessary retracing. For (3), please refer to https://www.tensorflow.org/guide/function#controlling_retracing and https://www.tensorflow.org/api_docs/python/tf/function for  more details.\n"
          ]
        }
      ]
    },
    {
      "cell_type": "code",
      "metadata": {
        "id": "pB4Hq-nqddVn",
        "colab": {
          "base_uri": "https://localhost:8080/"
        },
        "outputId": "817d08e3-8907-4af3-e206-180cb078164b"
      },
      "source": [
        "print(\"Train scores\")\n",
        "print(train_scores)\n",
        "\n",
        "print(\"Validation scores\")\n",
        "print(valid_scores)"
      ],
      "execution_count": 18,
      "outputs": [
        {
          "output_type": "stream",
          "name": "stdout",
          "text": [
            "Train scores\n",
            "{'mean-roc_auc_score': 0.9766149867504007}\n",
            "Validation scores\n",
            "{'mean-roc_auc_score': 0.8090075765474577}\n"
          ]
        }
      ]
    },
    {
      "cell_type": "code",
      "source": [
        ""
      ],
      "metadata": {
        "id": "pBgJFAAcnxMG"
      },
      "execution_count": null,
      "outputs": []
    }
  ]
}